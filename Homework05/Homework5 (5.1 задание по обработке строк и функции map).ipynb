{
 "cells": [
  {
   "cell_type": "code",
   "execution_count": 2,
   "id": "e6f124d2",
   "metadata": {},
   "outputs": [
    {
     "name": "stdout",
     "output_type": "stream",
     "text": [
      "1 2 3 4 5\n",
      "1 3 5\n"
     ]
    }
   ],
   "source": [
    "#exercice1\n",
    "print(' '.join(input().split()[::2]))"
   ]
  },
  {
   "cell_type": "code",
   "execution_count": 4,
   "id": "856cc249",
   "metadata": {},
   "outputs": [
    {
     "name": "stdout",
     "output_type": "stream",
     "text": [
      "1 2 3 2 1\n",
      "3 2\n"
     ]
    }
   ],
   "source": [
    "#exercice2\n",
    "a = input().split()\n",
    "print(max(a), a.index(max(a)))"
   ]
  },
  {
   "cell_type": "code",
   "execution_count": 5,
   "id": "b4577429",
   "metadata": {},
   "outputs": [
    {
     "name": "stdout",
     "output_type": "stream",
     "text": [
      "1 2 3 4 5\n",
      "5 4 3 2 1\n"
     ]
    }
   ],
   "source": [
    "#exercice3\n",
    "print(' '.join(input().split()[::-1]))"
   ]
  },
  {
   "cell_type": "code",
   "execution_count": 8,
   "id": "cd5d6517",
   "metadata": {},
   "outputs": [
    {
     "name": "stdout",
     "output_type": "stream",
     "text": [
      "1 2 3 4 5\n",
      "2 1 4 3 5\n"
     ]
    }
   ],
   "source": [
    "#exercice4\n",
    "a = input().split()\n",
    "a[0: len(a)-1:2], a[1::2] = a[1::2], a[0: len(a)-1:2]\n",
    "print(' '.join(a))"
   ]
  },
  {
   "cell_type": "code",
   "execution_count": 12,
   "id": "542945f7",
   "metadata": {},
   "outputs": [
    {
     "name": "stdout",
     "output_type": "stream",
     "text": [
      "1 2 3 4 5\n",
      "5 1 2 3 4\n"
     ]
    }
   ],
   "source": [
    "#exercice5\n",
    "a = input().split()\n",
    "print(' '.join([a[len(a)-1]] + a[:len(a)-1]))"
   ]
  },
  {
   "cell_type": "code",
   "execution_count": 13,
   "id": "0d10ebfd",
   "metadata": {},
   "outputs": [
    {
     "name": "stdout",
     "output_type": "stream",
     "text": [
      "7 6 5 4 3 2 1\n",
      "2\n",
      "7 6 4 3 2 1\n"
     ]
    }
   ],
   "source": [
    "#exercice6\n",
    "a, n = input().split(), int(input())\n",
    "a.remove(a[n])\n",
    "print(' '.join(a))"
   ]
  },
  {
   "cell_type": "code",
   "execution_count": 15,
   "id": "f532ced7",
   "metadata": {},
   "outputs": [
    {
     "name": "stdout",
     "output_type": "stream",
     "text": [
      "7 6 5 4 3 2 1\n",
      "2 0\n",
      "7 6 0 5 4 3 2 1\n"
     ]
    }
   ],
   "source": [
    "#exercice7\n",
    "a = input().split()\n",
    "n, elem = map(int, input().split())\n",
    "print(' '.join(a[:n] + [f\"{elem}\"] + a[n:]))"
   ]
  },
  {
   "cell_type": "code",
   "execution_count": 16,
   "id": "418ff0e3",
   "metadata": {},
   "outputs": [
    {
     "name": "stdout",
     "output_type": "stream",
     "text": [
      "5 3 7 4 6\n",
      "3\n",
      "7 4 6 5 3\n"
     ]
    }
   ],
   "source": [
    "#exercice8\n",
    "a, n = input().split(), int(input())\n",
    "print(' '.join(a[n-1:]  + a[:n-1]))"
   ]
  },
  {
   "cell_type": "code",
   "execution_count": null,
   "id": "8371c8ac",
   "metadata": {},
   "outputs": [],
   "source": []
  }
 ],
 "metadata": {
  "kernelspec": {
   "display_name": "Python 3 (ipykernel)",
   "language": "python",
   "name": "python3"
  },
  "language_info": {
   "codemirror_mode": {
    "name": "ipython",
    "version": 3
   },
   "file_extension": ".py",
   "mimetype": "text/x-python",
   "name": "python",
   "nbconvert_exporter": "python",
   "pygments_lexer": "ipython3",
   "version": "3.10.11"
  }
 },
 "nbformat": 4,
 "nbformat_minor": 5
}
